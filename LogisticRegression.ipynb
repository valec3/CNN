{
  "nbformat": 4,
  "nbformat_minor": 0,
  "metadata": {
    "colab": {
      "provenance": [],
      "authorship_tag": "ABX9TyPmY5+Kc8pCnc9xiwjW8ZNM",
      "include_colab_link": true
    },
    "kernelspec": {
      "name": "python3",
      "display_name": "Python 3"
    },
    "language_info": {
      "name": "python"
    }
  },
  "cells": [
    {
      "cell_type": "markdown",
      "metadata": {
        "id": "view-in-github",
        "colab_type": "text"
      },
      "source": [
        "<a href=\"https://colab.research.google.com/github/valec3/DATA-SCIENCE-THEORY/blob/main/LogisticRegression.ipynb\" target=\"_parent\"><img src=\"https://colab.research.google.com/assets/colab-badge.svg\" alt=\"Open In Colab\"/></a>"
      ]
    },
    {
      "cell_type": "markdown",
      "source": [
        "# **REGRESION LOGISTICA**"
      ],
      "metadata": {
        "id": "REuP9_747ePL"
      }
    },
    {
      "cell_type": "markdown",
      "source": [
        "## Teoria"
      ],
      "metadata": {
        "id": "MEQ7timI8IJU"
      }
    },
    {
      "cell_type": "markdown",
      "source": [
        "La regresion logistica"
      ],
      "metadata": {
        "id": "t4U8ja1W8Kyr"
      }
    },
    {
      "cell_type": "markdown",
      "source": [
        "## Cargar librerias"
      ],
      "metadata": {
        "id": "G0SxgBKI7hy4"
      }
    },
    {
      "cell_type": "code",
      "execution_count": 1,
      "metadata": {
        "id": "1l1wtcyV7Yf_"
      },
      "outputs": [],
      "source": [
        "# Model\n",
        "from sklearn.linear_model import LogisticRegression\n",
        "\n",
        "from sklearn.model_selection import train_test_split\n",
        "from sklearn.metrics import accuracy_score\n",
        "from sklearn.metrics import classification_report\n",
        "from sklearn.metrics import confusion_matrix\n",
        "\n",
        "import pandas as pd\n",
        "import seaborn as sns\n",
        "import numpy as np"
      ]
    },
    {
      "cell_type": "markdown",
      "source": [
        "## Leer datos"
      ],
      "metadata": {
        "id": "GT30GptJ7lNe"
      }
    },
    {
      "cell_type": "code",
      "source": [],
      "metadata": {
        "id": "yBQBIj-m7nWg"
      },
      "execution_count": null,
      "outputs": []
    },
    {
      "cell_type": "markdown",
      "source": [
        "## Limpieza de datos"
      ],
      "metadata": {
        "id": "QkPZ2HjR7qY7"
      }
    },
    {
      "cell_type": "code",
      "source": [],
      "metadata": {
        "id": "wKPQMo_k7sP-"
      },
      "execution_count": null,
      "outputs": []
    },
    {
      "cell_type": "markdown",
      "source": [
        "## Entrenar modelo"
      ],
      "metadata": {
        "id": "eLUMnDP-7tBl"
      }
    },
    {
      "cell_type": "code",
      "source": [],
      "metadata": {
        "id": "6i7KoKDO7xcM"
      },
      "execution_count": null,
      "outputs": []
    },
    {
      "cell_type": "markdown",
      "source": [
        "## Evaluar el modelo"
      ],
      "metadata": {
        "id": "IE3iXt-07yCG"
      }
    },
    {
      "cell_type": "code",
      "source": [],
      "metadata": {
        "id": "jo-Zntr6702E"
      },
      "execution_count": null,
      "outputs": []
    },
    {
      "cell_type": "markdown",
      "source": [
        "## Guardar el modelo"
      ],
      "metadata": {
        "id": "WXQlhbY3719r"
      }
    },
    {
      "cell_type": "code",
      "source": [],
      "metadata": {
        "id": "VBAgRZOB73xw"
      },
      "execution_count": null,
      "outputs": []
    }
  ]
}